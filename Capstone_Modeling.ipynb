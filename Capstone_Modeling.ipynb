{
 "cells": [
  {
   "cell_type": "code",
   "execution_count": 2,
   "metadata": {},
   "outputs": [
    {
     "name": "stderr",
     "output_type": "stream",
     "text": [
      "Using TensorFlow backend.\n"
     ]
    }
   ],
   "source": [
    "import pandas as pd\n",
    "import numpy as np\n",
    "import matplotlib.pyplot as plt\n",
    "import seaborn as sns\n",
    "\n",
    "from sklearn import model_selection\n",
    "from sklearn.model_selection import GridSearchCV\n",
    "from sklearn.preprocessing import StandardScaler\n",
    "from sklearn.model_selection import cross_val_score\n",
    "from sklearn.model_selection import train_test_split\n",
    "from sklearn.metrics import roc_curve, auc, accuracy_score,confusion_matrix, recall_score, precision_score, classification_report\n",
    "from sklearn.tree import DecisionTreeClassifier\n",
    "from sklearn.neighbors import KNeighborsClassifier\n",
    "from sklearn.naive_bayes import GaussianNB\n",
    "from sklearn.ensemble.forest import RandomForestClassifier\n",
    "\n",
    "import imblearn\n",
    "from imblearn.over_sampling import SMOTE\n",
    "\n",
    "import warnings; warnings.simplefilter('ignore')"
   ]
  },
  {
   "cell_type": "markdown",
   "metadata": {},
   "source": [
    "## Conditioning"
   ]
  },
  {
   "cell_type": "code",
   "execution_count": 35,
   "metadata": {},
   "outputs": [],
   "source": [
    "df = pd.read_csv('Crime_data_final.csv')"
   ]
  },
  {
   "cell_type": "code",
   "execution_count": 37,
   "metadata": {},
   "outputs": [
    {
     "data": {
      "text/html": [
       "<div>\n",
       "<style scoped>\n",
       "    .dataframe tbody tr th:only-of-type {\n",
       "        vertical-align: middle;\n",
       "    }\n",
       "\n",
       "    .dataframe tbody tr th {\n",
       "        vertical-align: top;\n",
       "    }\n",
       "\n",
       "    .dataframe thead th {\n",
       "        text-align: right;\n",
       "    }\n",
       "</style>\n",
       "<table border=\"1\" class=\"dataframe\">\n",
       "  <thead>\n",
       "    <tr style=\"text-align: right;\">\n",
       "      <th></th>\n",
       "      <th>Unnamed: 0</th>\n",
       "      <th>REPORT_DAT</th>\n",
       "      <th>SHIFT</th>\n",
       "      <th>METHOD</th>\n",
       "      <th>OFFENSE</th>\n",
       "      <th>WARD</th>\n",
       "      <th>DISTRICT</th>\n",
       "      <th>NEIGHBORHOOD_CLUSTER</th>\n",
       "      <th>BLOCK_GROUP</th>\n",
       "      <th>CENSUS_TRACT</th>\n",
       "      <th>VOTING_PRECINCT</th>\n",
       "      <th>LATITUDE</th>\n",
       "      <th>LONGITUDE</th>\n",
       "      <th>OBJECTID</th>\n",
       "      <th>OCTO_RECORD_ID</th>\n",
       "      <th>COUNT</th>\n",
       "      <th>CITY</th>\n",
       "      <th>STATE</th>\n",
       "      <th>DATE</th>\n",
       "      <th>TIME</th>\n",
       "    </tr>\n",
       "  </thead>\n",
       "  <tbody>\n",
       "    <tr>\n",
       "      <th>0</th>\n",
       "      <td>0</td>\n",
       "      <td>2018-12-22T21:10:50.000Z</td>\n",
       "      <td>EVENING</td>\n",
       "      <td>OTHERS</td>\n",
       "      <td>THEFT/OTHER</td>\n",
       "      <td>4</td>\n",
       "      <td>4.0</td>\n",
       "      <td>Cluster 18</td>\n",
       "      <td>002301 2</td>\n",
       "      <td>2301.0</td>\n",
       "      <td>Precinct 45</td>\n",
       "      <td>38.942182</td>\n",
       "      <td>-77.014557</td>\n",
       "      <td>329684676</td>\n",
       "      <td>18217166-01</td>\n",
       "      <td>1</td>\n",
       "      <td>Washington, DC</td>\n",
       "      <td>District of Columbia</td>\n",
       "      <td>2018-12-22</td>\n",
       "      <td>21:10:50</td>\n",
       "    </tr>\n",
       "    <tr>\n",
       "      <th>1</th>\n",
       "      <td>1</td>\n",
       "      <td>2018-12-22T20:29:36.000Z</td>\n",
       "      <td>EVENING</td>\n",
       "      <td>OTHERS</td>\n",
       "      <td>THEFT/OTHER</td>\n",
       "      <td>6</td>\n",
       "      <td>1.0</td>\n",
       "      <td>Cluster 27</td>\n",
       "      <td>007200 2</td>\n",
       "      <td>7200.0</td>\n",
       "      <td>Precinct 131</td>\n",
       "      <td>38.876999</td>\n",
       "      <td>-77.004356</td>\n",
       "      <td>329684677</td>\n",
       "      <td>18217171-01</td>\n",
       "      <td>1</td>\n",
       "      <td>Washington, DC</td>\n",
       "      <td>District of Columbia</td>\n",
       "      <td>2018-12-22</td>\n",
       "      <td>20:29:36</td>\n",
       "    </tr>\n",
       "    <tr>\n",
       "      <th>2</th>\n",
       "      <td>2</td>\n",
       "      <td>2018-12-23T03:38:37.000Z</td>\n",
       "      <td>MIDNIGHT</td>\n",
       "      <td>OTHERS</td>\n",
       "      <td>THEFT/OTHER</td>\n",
       "      <td>7</td>\n",
       "      <td>6.0</td>\n",
       "      <td>Cluster 32</td>\n",
       "      <td>009603 3</td>\n",
       "      <td>9603.0</td>\n",
       "      <td>Precinct 102</td>\n",
       "      <td>38.890214</td>\n",
       "      <td>-76.952775</td>\n",
       "      <td>329684678</td>\n",
       "      <td>18217172-01</td>\n",
       "      <td>1</td>\n",
       "      <td>Washington, DC</td>\n",
       "      <td>District of Columbia</td>\n",
       "      <td>2018-12-23</td>\n",
       "      <td>03:38:37</td>\n",
       "    </tr>\n",
       "    <tr>\n",
       "      <th>3</th>\n",
       "      <td>3</td>\n",
       "      <td>2018-12-22T21:00:57.000Z</td>\n",
       "      <td>EVENING</td>\n",
       "      <td>OTHERS</td>\n",
       "      <td>MOTOR VEHICLE THEFT</td>\n",
       "      <td>7</td>\n",
       "      <td>6.0</td>\n",
       "      <td>Cluster 33</td>\n",
       "      <td>007803 3</td>\n",
       "      <td>7803.0</td>\n",
       "      <td>Precinct 98</td>\n",
       "      <td>38.890241</td>\n",
       "      <td>-76.935370</td>\n",
       "      <td>329684679</td>\n",
       "      <td>18217180-01</td>\n",
       "      <td>1</td>\n",
       "      <td>Washington, DC</td>\n",
       "      <td>District of Columbia</td>\n",
       "      <td>2018-12-22</td>\n",
       "      <td>21:00:57</td>\n",
       "    </tr>\n",
       "    <tr>\n",
       "      <th>4</th>\n",
       "      <td>4</td>\n",
       "      <td>2018-12-22T20:49:59.000Z</td>\n",
       "      <td>EVENING</td>\n",
       "      <td>OTHERS</td>\n",
       "      <td>THEFT F/AUTO</td>\n",
       "      <td>2</td>\n",
       "      <td>1.0</td>\n",
       "      <td>Cluster 8</td>\n",
       "      <td>005800 2</td>\n",
       "      <td>5800.0</td>\n",
       "      <td>Precinct 129</td>\n",
       "      <td>38.900860</td>\n",
       "      <td>-77.020912</td>\n",
       "      <td>329684680</td>\n",
       "      <td>18217182-01</td>\n",
       "      <td>1</td>\n",
       "      <td>Washington, DC</td>\n",
       "      <td>District of Columbia</td>\n",
       "      <td>2018-12-22</td>\n",
       "      <td>20:49:59</td>\n",
       "    </tr>\n",
       "  </tbody>\n",
       "</table>\n",
       "</div>"
      ],
      "text/plain": [
       "   Unnamed: 0                REPORT_DAT     SHIFT  METHOD  \\\n",
       "0           0  2018-12-22T21:10:50.000Z   EVENING  OTHERS   \n",
       "1           1  2018-12-22T20:29:36.000Z   EVENING  OTHERS   \n",
       "2           2  2018-12-23T03:38:37.000Z  MIDNIGHT  OTHERS   \n",
       "3           3  2018-12-22T21:00:57.000Z   EVENING  OTHERS   \n",
       "4           4  2018-12-22T20:49:59.000Z   EVENING  OTHERS   \n",
       "\n",
       "               OFFENSE  WARD  DISTRICT NEIGHBORHOOD_CLUSTER BLOCK_GROUP  \\\n",
       "0          THEFT/OTHER     4       4.0           Cluster 18    002301 2   \n",
       "1          THEFT/OTHER     6       1.0           Cluster 27    007200 2   \n",
       "2          THEFT/OTHER     7       6.0           Cluster 32    009603 3   \n",
       "3  MOTOR VEHICLE THEFT     7       6.0           Cluster 33    007803 3   \n",
       "4         THEFT F/AUTO     2       1.0            Cluster 8    005800 2   \n",
       "\n",
       "   CENSUS_TRACT VOTING_PRECINCT   LATITUDE  LONGITUDE   OBJECTID  \\\n",
       "0        2301.0     Precinct 45  38.942182 -77.014557  329684676   \n",
       "1        7200.0    Precinct 131  38.876999 -77.004356  329684677   \n",
       "2        9603.0    Precinct 102  38.890214 -76.952775  329684678   \n",
       "3        7803.0     Precinct 98  38.890241 -76.935370  329684679   \n",
       "4        5800.0    Precinct 129  38.900860 -77.020912  329684680   \n",
       "\n",
       "  OCTO_RECORD_ID  COUNT            CITY                 STATE        DATE  \\\n",
       "0    18217166-01      1  Washington, DC  District of Columbia  2018-12-22   \n",
       "1    18217171-01      1  Washington, DC  District of Columbia  2018-12-22   \n",
       "2    18217172-01      1  Washington, DC  District of Columbia  2018-12-23   \n",
       "3    18217180-01      1  Washington, DC  District of Columbia  2018-12-22   \n",
       "4    18217182-01      1  Washington, DC  District of Columbia  2018-12-22   \n",
       "\n",
       "       TIME  \n",
       "0  21:10:50  \n",
       "1  20:29:36  \n",
       "2  03:38:37  \n",
       "3  21:00:57  \n",
       "4  20:49:59  "
      ]
     },
     "execution_count": 37,
     "metadata": {},
     "output_type": "execute_result"
    }
   ],
   "source": [
    "df.head()"
   ]
  },
  {
   "cell_type": "code",
   "execution_count": 5,
   "metadata": {},
   "outputs": [],
   "source": [
    "df = df.drop(columns = ['Unnamed: 0', 'COUNT', 'CITY', 'STATE', 'REPORT_DAT', 'OCTO_RECORD_ID'])"
   ]
  },
  {
   "cell_type": "markdown",
   "metadata": {},
   "source": [
    "Splitting our X and Y variables:"
   ]
  },
  {
   "cell_type": "code",
   "execution_count": 6,
   "metadata": {},
   "outputs": [],
   "source": [
    "y = df.OFFENSE\n",
    "df = df.drop(columns = 'OFFENSE')"
   ]
  },
  {
   "cell_type": "markdown",
   "metadata": {},
   "source": [
    "Some of our feature variables include text data. We'll need to split these columns and include only the integer values:"
   ]
  },
  {
   "cell_type": "code",
   "execution_count": 7,
   "metadata": {},
   "outputs": [],
   "source": [
    "df['NEIGHBORHOOD_CLUSTER'] = df['NEIGHBORHOOD_CLUSTER'].str.split(' ').str[1]\n",
    "df['VOTING_PRECINCT'] = df['VOTING_PRECINCT'].str.split(' ').str[1]"
   ]
  },
  {
   "cell_type": "markdown",
   "metadata": {},
   "source": [
    "Further, we'll isolate our data and time features by their component parts (i.e., day, month, year):"
   ]
  },
  {
   "cell_type": "code",
   "execution_count": 8,
   "metadata": {},
   "outputs": [],
   "source": [
    "df['YEAR'] = df['DATE'].str.split('-').str[0]\n",
    "df['MONTH'] = df['DATE'].str.split('-').str[1]\n",
    "df['DAY'] = df['DATE'].str.split('-').str[2]\n",
    "\n",
    "df['HOUR'] = df['TIME'].str.split(':').str[0]\n",
    "df['MINUTE'] = df['TIME'].str.split(':').str[1]\n",
    "df['SECOND'] = df['TIME'].str.split(':').str[2]"
   ]
  },
  {
   "cell_type": "code",
   "execution_count": 9,
   "metadata": {},
   "outputs": [],
   "source": [
    "df = df.drop(columns = ['DATE', 'TIME'])"
   ]
  },
  {
   "cell_type": "markdown",
   "metadata": {},
   "source": [
    "Next we'll strip any white space for some of our features: "
   ]
  },
  {
   "cell_type": "code",
   "execution_count": 10,
   "metadata": {},
   "outputs": [],
   "source": [
    "df['BLOCK_GROUP'] = df['BLOCK_GROUP'].str.replace(\" \",\"\")"
   ]
  },
  {
   "cell_type": "markdown",
   "metadata": {},
   "source": [
    "And convert the string variables to integers:"
   ]
  },
  {
   "cell_type": "code",
   "execution_count": 11,
   "metadata": {},
   "outputs": [
    {
     "name": "stdout",
     "output_type": "stream",
     "text": [
      "<class 'pandas.core.frame.DataFrame'>\n",
      "RangeIndex: 53654 entries, 0 to 53653\n",
      "Data columns (total 17 columns):\n",
      "SHIFT                   53654 non-null object\n",
      "METHOD                  53654 non-null object\n",
      "WARD                    53654 non-null int64\n",
      "DISTRICT                53654 non-null float64\n",
      "NEIGHBORHOOD_CLUSTER    53654 non-null object\n",
      "BLOCK_GROUP             53654 non-null object\n",
      "CENSUS_TRACT            53654 non-null float64\n",
      "VOTING_PRECINCT         53654 non-null object\n",
      "LATITUDE                53654 non-null float64\n",
      "LONGITUDE               53654 non-null float64\n",
      "OBJECTID                53654 non-null int64\n",
      "YEAR                    53654 non-null object\n",
      "MONTH                   53654 non-null object\n",
      "DAY                     53654 non-null object\n",
      "HOUR                    53654 non-null object\n",
      "MINUTE                  53654 non-null object\n",
      "SECOND                  53654 non-null object\n",
      "dtypes: float64(4), int64(2), object(11)\n",
      "memory usage: 7.0+ MB\n"
     ]
    }
   ],
   "source": [
    "df.info()"
   ]
  },
  {
   "cell_type": "code",
   "execution_count": 12,
   "metadata": {},
   "outputs": [],
   "source": [
    "df['DISTRICT'] = df['DISTRICT'].astype(int)\n",
    "df['NEIGHBORHOOD_CLUSTER'] = df['NEIGHBORHOOD_CLUSTER'].astype(int)\n",
    "df['BLOCK_GROUP'] = df['BLOCK_GROUP'].astype(int)\n",
    "df['VOTING_PRECINCT'] = df['VOTING_PRECINCT'].astype(int)\n",
    "df['DISTRICT'] = df['DISTRICT'].astype(int)\n",
    "\n",
    "df['YEAR'] = df['YEAR'].astype(int)\n",
    "df['MONTH'] = df['MONTH'].astype(int)\n",
    "df['DAY'] = df['DAY'].astype(int)\n",
    "\n",
    "df['HOUR'] = df['HOUR'].astype(int)\n",
    "df['MINUTE'] = df['MINUTE'].astype(int)\n",
    "df['SECOND'] = df['SECOND'].astype(int)"
   ]
  },
  {
   "cell_type": "code",
   "execution_count": 13,
   "metadata": {},
   "outputs": [
    {
     "name": "stdout",
     "output_type": "stream",
     "text": [
      "<class 'pandas.core.frame.DataFrame'>\n",
      "RangeIndex: 53654 entries, 0 to 53653\n",
      "Data columns (total 17 columns):\n",
      "SHIFT                   53654 non-null object\n",
      "METHOD                  53654 non-null object\n",
      "WARD                    53654 non-null int64\n",
      "DISTRICT                53654 non-null int64\n",
      "NEIGHBORHOOD_CLUSTER    53654 non-null int64\n",
      "BLOCK_GROUP             53654 non-null int64\n",
      "CENSUS_TRACT            53654 non-null float64\n",
      "VOTING_PRECINCT         53654 non-null int64\n",
      "LATITUDE                53654 non-null float64\n",
      "LONGITUDE               53654 non-null float64\n",
      "OBJECTID                53654 non-null int64\n",
      "YEAR                    53654 non-null int64\n",
      "MONTH                   53654 non-null int64\n",
      "DAY                     53654 non-null int64\n",
      "HOUR                    53654 non-null int64\n",
      "MINUTE                  53654 non-null int64\n",
      "SECOND                  53654 non-null int64\n",
      "dtypes: float64(3), int64(12), object(2)\n",
      "memory usage: 7.0+ MB\n"
     ]
    }
   ],
   "source": [
    "df.info()"
   ]
  },
  {
   "cell_type": "markdown",
   "metadata": {},
   "source": [
    "## Feature Engineering\n",
    "\n",
    "The first piece of our feature engineering phase requires us to address the categorical features from the 'shift' and 'method' columns. We'll address this by dummifying the columns:"
   ]
  },
  {
   "cell_type": "code",
   "execution_count": 14,
   "metadata": {},
   "outputs": [
    {
     "data": {
      "text/plain": [
       "array(['EVENING', 'MIDNIGHT', 'DAY'], dtype=object)"
      ]
     },
     "execution_count": 14,
     "metadata": {},
     "output_type": "execute_result"
    }
   ],
   "source": [
    "df.SHIFT.unique()"
   ]
  },
  {
   "cell_type": "code",
   "execution_count": 15,
   "metadata": {},
   "outputs": [
    {
     "data": {
      "text/plain": [
       "array(['OTHERS', 'GUN', 'KNIFE'], dtype=object)"
      ]
     },
     "execution_count": 15,
     "metadata": {},
     "output_type": "execute_result"
    }
   ],
   "source": [
    "df.METHOD.unique()"
   ]
  },
  {
   "cell_type": "code",
   "execution_count": 16,
   "metadata": {},
   "outputs": [],
   "source": [
    "df = pd.get_dummies(df)"
   ]
  },
  {
   "cell_type": "code",
   "execution_count": 17,
   "metadata": {
    "scrolled": true
   },
   "outputs": [
    {
     "name": "stdout",
     "output_type": "stream",
     "text": [
      "Final feature dataset shape: (53654, 21)\n",
      "\n"
     ]
    },
    {
     "data": {
      "text/html": [
       "<div>\n",
       "<style scoped>\n",
       "    .dataframe tbody tr th:only-of-type {\n",
       "        vertical-align: middle;\n",
       "    }\n",
       "\n",
       "    .dataframe tbody tr th {\n",
       "        vertical-align: top;\n",
       "    }\n",
       "\n",
       "    .dataframe thead th {\n",
       "        text-align: right;\n",
       "    }\n",
       "</style>\n",
       "<table border=\"1\" class=\"dataframe\">\n",
       "  <thead>\n",
       "    <tr style=\"text-align: right;\">\n",
       "      <th></th>\n",
       "      <th>WARD</th>\n",
       "      <th>DISTRICT</th>\n",
       "      <th>NEIGHBORHOOD_CLUSTER</th>\n",
       "      <th>BLOCK_GROUP</th>\n",
       "      <th>CENSUS_TRACT</th>\n",
       "      <th>VOTING_PRECINCT</th>\n",
       "      <th>LATITUDE</th>\n",
       "      <th>LONGITUDE</th>\n",
       "      <th>OBJECTID</th>\n",
       "      <th>YEAR</th>\n",
       "      <th>...</th>\n",
       "      <th>DAY</th>\n",
       "      <th>HOUR</th>\n",
       "      <th>MINUTE</th>\n",
       "      <th>SECOND</th>\n",
       "      <th>SHIFT_DAY</th>\n",
       "      <th>SHIFT_EVENING</th>\n",
       "      <th>SHIFT_MIDNIGHT</th>\n",
       "      <th>METHOD_GUN</th>\n",
       "      <th>METHOD_KNIFE</th>\n",
       "      <th>METHOD_OTHERS</th>\n",
       "    </tr>\n",
       "  </thead>\n",
       "  <tbody>\n",
       "    <tr>\n",
       "      <th>0</th>\n",
       "      <td>4</td>\n",
       "      <td>4</td>\n",
       "      <td>18</td>\n",
       "      <td>23012</td>\n",
       "      <td>2301.0</td>\n",
       "      <td>45</td>\n",
       "      <td>38.942182</td>\n",
       "      <td>-77.014557</td>\n",
       "      <td>329684676</td>\n",
       "      <td>2018</td>\n",
       "      <td>...</td>\n",
       "      <td>22</td>\n",
       "      <td>21</td>\n",
       "      <td>10</td>\n",
       "      <td>50</td>\n",
       "      <td>0</td>\n",
       "      <td>1</td>\n",
       "      <td>0</td>\n",
       "      <td>0</td>\n",
       "      <td>0</td>\n",
       "      <td>1</td>\n",
       "    </tr>\n",
       "    <tr>\n",
       "      <th>1</th>\n",
       "      <td>6</td>\n",
       "      <td>1</td>\n",
       "      <td>27</td>\n",
       "      <td>72002</td>\n",
       "      <td>7200.0</td>\n",
       "      <td>131</td>\n",
       "      <td>38.876999</td>\n",
       "      <td>-77.004356</td>\n",
       "      <td>329684677</td>\n",
       "      <td>2018</td>\n",
       "      <td>...</td>\n",
       "      <td>22</td>\n",
       "      <td>20</td>\n",
       "      <td>29</td>\n",
       "      <td>36</td>\n",
       "      <td>0</td>\n",
       "      <td>1</td>\n",
       "      <td>0</td>\n",
       "      <td>0</td>\n",
       "      <td>0</td>\n",
       "      <td>1</td>\n",
       "    </tr>\n",
       "    <tr>\n",
       "      <th>2</th>\n",
       "      <td>7</td>\n",
       "      <td>6</td>\n",
       "      <td>32</td>\n",
       "      <td>96033</td>\n",
       "      <td>9603.0</td>\n",
       "      <td>102</td>\n",
       "      <td>38.890214</td>\n",
       "      <td>-76.952775</td>\n",
       "      <td>329684678</td>\n",
       "      <td>2018</td>\n",
       "      <td>...</td>\n",
       "      <td>23</td>\n",
       "      <td>3</td>\n",
       "      <td>38</td>\n",
       "      <td>37</td>\n",
       "      <td>0</td>\n",
       "      <td>0</td>\n",
       "      <td>1</td>\n",
       "      <td>0</td>\n",
       "      <td>0</td>\n",
       "      <td>1</td>\n",
       "    </tr>\n",
       "    <tr>\n",
       "      <th>3</th>\n",
       "      <td>7</td>\n",
       "      <td>6</td>\n",
       "      <td>33</td>\n",
       "      <td>78033</td>\n",
       "      <td>7803.0</td>\n",
       "      <td>98</td>\n",
       "      <td>38.890241</td>\n",
       "      <td>-76.935370</td>\n",
       "      <td>329684679</td>\n",
       "      <td>2018</td>\n",
       "      <td>...</td>\n",
       "      <td>22</td>\n",
       "      <td>21</td>\n",
       "      <td>0</td>\n",
       "      <td>57</td>\n",
       "      <td>0</td>\n",
       "      <td>1</td>\n",
       "      <td>0</td>\n",
       "      <td>0</td>\n",
       "      <td>0</td>\n",
       "      <td>1</td>\n",
       "    </tr>\n",
       "    <tr>\n",
       "      <th>4</th>\n",
       "      <td>2</td>\n",
       "      <td>1</td>\n",
       "      <td>8</td>\n",
       "      <td>58002</td>\n",
       "      <td>5800.0</td>\n",
       "      <td>129</td>\n",
       "      <td>38.900860</td>\n",
       "      <td>-77.020912</td>\n",
       "      <td>329684680</td>\n",
       "      <td>2018</td>\n",
       "      <td>...</td>\n",
       "      <td>22</td>\n",
       "      <td>20</td>\n",
       "      <td>49</td>\n",
       "      <td>59</td>\n",
       "      <td>0</td>\n",
       "      <td>1</td>\n",
       "      <td>0</td>\n",
       "      <td>0</td>\n",
       "      <td>0</td>\n",
       "      <td>1</td>\n",
       "    </tr>\n",
       "  </tbody>\n",
       "</table>\n",
       "<p>5 rows × 21 columns</p>\n",
       "</div>"
      ],
      "text/plain": [
       "   WARD  DISTRICT  NEIGHBORHOOD_CLUSTER  BLOCK_GROUP  CENSUS_TRACT  \\\n",
       "0     4         4                    18        23012        2301.0   \n",
       "1     6         1                    27        72002        7200.0   \n",
       "2     7         6                    32        96033        9603.0   \n",
       "3     7         6                    33        78033        7803.0   \n",
       "4     2         1                     8        58002        5800.0   \n",
       "\n",
       "   VOTING_PRECINCT   LATITUDE  LONGITUDE   OBJECTID  YEAR  ...  DAY  HOUR  \\\n",
       "0               45  38.942182 -77.014557  329684676  2018  ...   22    21   \n",
       "1              131  38.876999 -77.004356  329684677  2018  ...   22    20   \n",
       "2              102  38.890214 -76.952775  329684678  2018  ...   23     3   \n",
       "3               98  38.890241 -76.935370  329684679  2018  ...   22    21   \n",
       "4              129  38.900860 -77.020912  329684680  2018  ...   22    20   \n",
       "\n",
       "   MINUTE  SECOND  SHIFT_DAY  SHIFT_EVENING  SHIFT_MIDNIGHT  METHOD_GUN  \\\n",
       "0      10      50          0              1               0           0   \n",
       "1      29      36          0              1               0           0   \n",
       "2      38      37          0              0               1           0   \n",
       "3       0      57          0              1               0           0   \n",
       "4      49      59          0              1               0           0   \n",
       "\n",
       "   METHOD_KNIFE  METHOD_OTHERS  \n",
       "0             0              1  \n",
       "1             0              1  \n",
       "2             0              1  \n",
       "3             0              1  \n",
       "4             0              1  \n",
       "\n",
       "[5 rows x 21 columns]"
      ]
     },
     "metadata": {},
     "output_type": "display_data"
    }
   ],
   "source": [
    "print('Final feature dataset shape:',df.shape)\n",
    "print()\n",
    "display(df.head())"
   ]
  },
  {
   "cell_type": "markdown",
   "metadata": {},
   "source": [
    "Next, we'll assign numerical values to each of our target variables: "
   ]
  },
  {
   "cell_type": "code",
   "execution_count": 18,
   "metadata": {},
   "outputs": [
    {
     "name": "stdout",
     "output_type": "stream",
     "text": [
      "Number of offense categories: 9\n",
      "\n",
      "Frequency of each offense category:\n",
      "\n",
      "THEFT/OTHER                   23219\n",
      "THEFT F/AUTO                  17917\n",
      "MOTOR VEHICLE THEFT            3695\n",
      "ROBBERY                        3319\n",
      "ASSAULT W/DANGEROUS WEAPON     2634\n",
      "BURGLARY                       2210\n",
      "SEX ABUSE                       389\n",
      "HOMICIDE                        261\n",
      "ARSON                            10\n",
      "Name: OFFENSE, dtype: int64\n"
     ]
    }
   ],
   "source": [
    "print('Number of offense categories:',y.nunique())\n",
    "print()\n",
    "print('Frequency of each offense category:')\n",
    "print()\n",
    "print(y.value_counts())"
   ]
  },
  {
   "cell_type": "code",
   "execution_count": 19,
   "metadata": {},
   "outputs": [
    {
     "data": {
      "image/png": "[encoded data removed]",
      "text/plain": [
       "<Figure size 864x432 with 1 Axes>"
      ]
     },
     "metadata": {},
     "output_type": "display_data"
    }
   ],
   "source": [
    "sns.set_style('darkgrid')\n",
    "\n",
    "plt.figure(figsize= (12,6))\n",
    "\n",
    "g = sns.countplot(x = y, color = 'b', saturation=.4)\n",
    "g.set_xticklabels(rotation = 45, labels = y, horizontalalignment='right')\n",
    "\n",
    "plt.title('Offense Count: January 2018 - August 2019', size = 15)\n",
    "plt.ylabel('')\n",
    "plt.xlabel('')\n",
    "plt.xticks(size = 12)\n",
    "plt.yticks(size = 12)\n",
    "plt.show()"
   ]
  },
  {
   "cell_type": "markdown",
   "metadata": {},
   "source": [
    "Based on the extreme imbalance of our target variable, we'll need to employ some rebalancing using the SMOTE method. Before doing so, let's convert our target variable to integers:"
   ]
  },
  {
   "cell_type": "code",
   "execution_count": 20,
   "metadata": {},
   "outputs": [],
   "source": [
    "y_labels = y"
   ]
  },
  {
   "cell_type": "code",
   "execution_count": 21,
   "metadata": {},
   "outputs": [
    {
     "data": {
      "text/plain": [
       "0    8\n",
       "1    8\n",
       "2    8\n",
       "3    4\n",
       "4    7\n",
       "dtype: int8"
      ]
     },
     "execution_count": 21,
     "metadata": {},
     "output_type": "execute_result"
    }
   ],
   "source": [
    "y = y.astype('category')\n",
    "encoded_labels = y.cat.codes\n",
    "encoded_labels.head()"
   ]
  },
  {
   "cell_type": "markdown",
   "metadata": {},
   "source": [
    "We'll align our encoded labels and label strings in a variable for later model performance analysis:"
   ]
  },
  {
   "cell_type": "code",
   "execution_count": 22,
   "metadata": {},
   "outputs": [
    {
     "name": "stdout",
     "output_type": "stream",
     "text": [
      "[[8 'THEFT/OTHER']\n",
      " [4 'MOTOR VEHICLE THEFT']\n",
      " [7 'THEFT F/AUTO']\n",
      " [1 'ASSAULT W/DANGEROUS WEAPON']\n",
      " [5 'ROBBERY']\n",
      " [2 'BURGLARY']\n",
      " [3 'HOMICIDE']\n",
      " [6 'SEX ABUSE']\n",
      " [0 'ARSON']]\n"
     ]
    }
   ],
   "source": [
    "label_ints = encoded_labels.unique()\n",
    "labels = y_labels.unique()\n",
    "\n",
    "labels = np.column_stack((label_ints, labels))\n",
    "print(labels)"
   ]
  },
  {
   "cell_type": "code",
   "execution_count": 24,
   "metadata": {},
   "outputs": [],
   "source": [
    "test_df = df\n",
    "test_df['TARGET'] = y"
   ]
  },
  {
   "cell_type": "code",
   "execution_count": null,
   "metadata": {},
   "outputs": [],
   "source": [
    "test_df.to_csv('Model_test_data.csv')"
   ]
  },
  {
   "cell_type": "markdown",
   "metadata": {},
   "source": [
    "With our labels encoded, we can move on to rebalancing the dataset: "
   ]
  },
  {
   "cell_type": "code",
   "execution_count": null,
   "metadata": {},
   "outputs": [],
   "source": [
    "y = encoded_labels\n",
    "df.drop(columns = 'TARGET', inplace = True)\n",
    "x = df"
   ]
  },
  {
   "cell_type": "code",
   "execution_count": null,
   "metadata": {},
   "outputs": [],
   "source": [
    "print('Target value counts pre resampling:')\n",
    "print(y.value_counts())\n",
    "print()\n",
    "\n",
    "x_resampled, y_resampled = SMOTE().fit_sample(x,y)\n",
    "\n",
    "print('Target value counts post resampling:')\n",
    "print(pd.Series(y_resampled).value_counts())\n",
    "\n",
    "resampled_feats = pd.DataFrame(x_resampled, columns = df.columns)\n",
    "target = y_resampled"
   ]
  },
  {
   "cell_type": "code",
   "execution_count": null,
   "metadata": {},
   "outputs": [],
   "source": [
    "print('Number of instances in our feature set:', len(resampled_feats))\n",
    "print('Number of labels in our target set:', len(target))"
   ]
  },
  {
   "cell_type": "markdown",
   "metadata": {},
   "source": [
    "As a last measure in the feature engineering phase, we'll employ the Standard Scaler function from SKlearn to achieve a uniform scale of our data. We'll do this to avoid outsized impacts certain features may have on our classification models:"
   ]
  },
  {
   "cell_type": "code",
   "execution_count": null,
   "metadata": {},
   "outputs": [],
   "source": [
    "resampled_feats.head()"
   ]
  },
  {
   "cell_type": "code",
   "execution_count": null,
   "metadata": {
    "scrolled": true
   },
   "outputs": [],
   "source": [
    "column_names = resampled_feats.columns\n",
    "\n",
    "scaler = StandardScaler()\n",
    "scaled_feats = scaler.fit_transform(resampled_feats)\n",
    "\n",
    "scaled_feats = pd.DataFrame(scaled_feats, columns = column_names)\n",
    "\n",
    "features = scaled_feats\n",
    "features.head()"
   ]
  },
  {
   "cell_type": "markdown",
   "metadata": {},
   "source": [
    "Before finishing this section, we're going to combine our features and target data in one dataframe and save the file as a CSV for easy access down the road:"
   ]
  },
  {
   "cell_type": "code",
   "execution_count": null,
   "metadata": {},
   "outputs": [],
   "source": [
    "features['TARGET'] = target"
   ]
  },
  {
   "cell_type": "code",
   "execution_count": null,
   "metadata": {},
   "outputs": [],
   "source": [
    "features.to_csv('Modeling_data_final.csv')"
   ]
  },
  {
   "cell_type": "markdown",
   "metadata": {},
   "source": [
    "## Modeling"
   ]
  },
  {
   "cell_type": "markdown",
   "metadata": {},
   "source": [
    "With the data prepped for modeling, we'll load in the modeling data, split our target and features, and split our train and test set:"
   ]
  },
  {
   "cell_type": "code",
   "execution_count": 38,
   "metadata": {},
   "outputs": [],
   "source": [
    "df = pd.read_csv('Modeling_data_final.csv')\n",
    "features = df.drop(columns = ['TARGET', 'Unnamed: 0'])\n",
    "target = df.TARGET"
   ]
  },
  {
   "cell_type": "code",
   "execution_count": 39,
   "metadata": {},
   "outputs": [],
   "source": [
    "X_train, X_test, y_train, y_test = train_test_split(features, target, test_size = .20)"
   ]
  },
  {
   "cell_type": "code",
   "execution_count": null,
   "metadata": {},
   "outputs": [],
   "source": [
    "models = []\n",
    "models.append(('KNN', KNeighborsClassifier()))\n",
    "models.append(('DT', DecisionTreeClassifier()))\n",
    "models.append(('NB', GaussianNB()))\n",
    "models.append(('RF', RandomForestClassifier()))\n",
    "\n",
    "seed = 42\n",
    "results = []\n",
    "names = []\n",
    "scoring = 'accuracy'\n",
    "\n",
    "for name, model in models:\n",
    "    \n",
    "    kfold = model_selection.KFold(n_splits = 20, random_state = seed)\n",
    "    cv_results = model_selection.cross_val_score(model, X_train, y_train, cv = kfold, scoring = scoring)\n",
    "    \n",
    "    results.append(cv_results)\n",
    "    names.append(name)\n",
    "    \n",
    "    msg = \"%s: %f (%f)\" % (name, cv_results.mean(), cv_results.std())\n",
    "    \n",
    "    print(msg)"
   ]
  },
  {
   "cell_type": "code",
   "execution_count": null,
   "metadata": {},
   "outputs": [],
   "source": [
    "plt.figure(figsize=(6,8))\n",
    "plt.boxplot(results, labels=names )\n",
    "plt.title('Algorithm Comparison')\n",
    "plt.show()"
   ]
  },
  {
   "cell_type": "markdown",
   "metadata": {},
   "source": [
    "Based on the above results, it's clear the random forest algorithm yields the best results with respect to accuracy scores. Our next step is to run a grid search using varying random forest hyper parameters in an attempt to flush out the best final model: "
   ]
  },
  {
   "cell_type": "code",
   "execution_count": null,
   "metadata": {},
   "outputs": [],
   "source": [
    "param_grid = { \n",
    "    'n_estimators': [50, 100, 150],\n",
    "    'max_depth' : [5, 15, 30],\n",
    "    'min_samples_leaf' : [1, 5, 10],\n",
    "    'criterion' : ['gini', 'entropy']\n",
    "}"
   ]
  },
  {
   "cell_type": "code",
   "execution_count": null,
   "metadata": {},
   "outputs": [],
   "source": [
    "rfc = RandomForestClassifier(random_state = 42)"
   ]
  },
  {
   "cell_type": "code",
   "execution_count": null,
   "metadata": {
    "scrolled": true
   },
   "outputs": [],
   "source": [
    "CV_rfc = GridSearchCV(estimator = rfc, param_grid = param_grid, cv = 3)\n",
    "CV_rfc.fit(X_train, y_train)"
   ]
  },
  {
   "cell_type": "code",
   "execution_count": null,
   "metadata": {},
   "outputs": [],
   "source": [
    "print('Optimal hyperparameters for max accuracy score:', CV_rfc.best_params_)"
   ]
  },
  {
   "cell_type": "markdown",
   "metadata": {},
   "source": [
    "With the retrieval of the best parameters, let's re-run the algorithm and test the model against our testing set: "
   ]
  },
  {
   "cell_type": "code",
   "execution_count": 40,
   "metadata": {},
   "outputs": [],
   "source": [
    "rfc = RandomForestClassifier(random_state = 42, criterion = 'gini', max_depth = 30, \n",
    "                             min_samples_leaf = 1, n_estimators = 150, verbose = 0)\n",
    "trained_model = rfc.fit(X_train, y_train)"
   ]
  },
  {
   "cell_type": "code",
   "execution_count": 41,
   "metadata": {},
   "outputs": [],
   "source": [
    "predictions = trained_model.predict(X_test)"
   ]
  },
  {
   "cell_type": "code",
   "execution_count": 42,
   "metadata": {},
   "outputs": [
    {
     "name": "stdout",
     "output_type": "stream",
     "text": [
      "Random Forest model accuracy:  0.862208398133748\n"
     ]
    }
   ],
   "source": [
    "print('Random Forest model accuracy: ', accuracy_score(y_test, predictions))"
   ]
  },
  {
   "cell_type": "markdown",
   "metadata": {},
   "source": [
    "We'll take a look at the confusion matrix produced by our models predictions on the test set: "
   ]
  },
  {
   "cell_type": "code",
   "execution_count": 43,
   "metadata": {},
   "outputs": [
    {
     "data": {
      "image/png": "[encoded data removed]",
      "text/plain": [
       "<Figure size 1080x720 with 2 Axes>"
      ]
     },
     "metadata": {},
     "output_type": "display_data"
    }
   ],
   "source": [
    "cnf_matrix = confusion_matrix(predictions, y_test)\n",
    "\n",
    "plt.figure(figsize=(15,10))\n",
    "sns.heatmap(cnf_matrix, annot=True, fmt='d', cmap= 'Blues', linewidths=10, )\n",
    "plt.title('Confusion Matrix', size= 15)\n",
    "plt.xlabel('Predicted Classes', size = 13)\n",
    "plt.ylabel('Actual Classes', size = 13)\n",
    "\n",
    "plt.show()"
   ]
  },
  {
   "cell_type": "markdown",
   "metadata": {},
   "source": [
    "With our test accuracy at ~86%, we'll take a look at the features of most importance in determining the type of crime that took place:"
   ]
  },
  {
   "cell_type": "code",
   "execution_count": 44,
   "metadata": {},
   "outputs": [
    {
     "data": {
      "text/plain": [
       "SECOND                  0.099928\n",
       "MINUTE                  0.084167\n",
       "HOUR                    0.072718\n",
       "OBJECTID                0.069355\n",
       "LONGITUDE               0.068454\n",
       "METHOD_OTHERS           0.056059\n",
       "LATITUDE                0.054586\n",
       "BLOCK_GROUP             0.053842\n",
       "MONTH                   0.050696\n",
       "CENSUS_TRACT            0.050082\n",
       "DAY                     0.047766\n",
       "VOTING_PRECINCT         0.042667\n",
       "NEIGHBORHOOD_CLUSTER    0.033668\n",
       "METHOD_GUN              0.031204\n",
       "SHIFT_MIDNIGHT          0.028982\n",
       "DISTRICT                0.028745\n",
       "YEAR                    0.027620\n",
       "WARD                    0.027134\n",
       "SHIFT_EVENING           0.025848\n",
       "METHOD_KNIFE            0.023905\n",
       "SHIFT_DAY               0.022573\n",
       "dtype: float64"
      ]
     },
     "execution_count": 44,
     "metadata": {},
     "output_type": "execute_result"
    }
   ],
   "source": [
    "feature_importances = pd.Series(trained_model.feature_importances_, \n",
    "                                index = features.columns).sort_values(ascending = False)\n",
    "feature_importances"
   ]
  },
  {
   "cell_type": "code",
   "execution_count": 45,
   "metadata": {},
   "outputs": [
    {
     "data": {
      "image/png": "[encoded data removed]",
      "text/plain": [
       "<Figure size 936x720 with 1 Axes>"
      ]
     },
     "metadata": {},
     "output_type": "display_data"
    }
   ],
   "source": [
    "plt.figure(figsize=(13,10))\n",
    "\n",
    "sns.barplot(x = feature_importances, y = feature_importances.index, color = 'cornflowerblue')\n",
    "plt.show()\n"
   ]
  },
  {
   "cell_type": "markdown",
   "metadata": {},
   "source": [
    "With our model trained, let's run some predictions on data yet to be seen:"
   ]
  },
  {
   "cell_type": "code",
   "execution_count": 56,
   "metadata": {},
   "outputs": [
    {
     "data": {
      "text/html": [
       "<div>\n",
       "<style scoped>\n",
       "    .dataframe tbody tr th:only-of-type {\n",
       "        vertical-align: middle;\n",
       "    }\n",
       "\n",
       "    .dataframe tbody tr th {\n",
       "        vertical-align: top;\n",
       "    }\n",
       "\n",
       "    .dataframe thead th {\n",
       "        text-align: right;\n",
       "    }\n",
       "</style>\n",
       "<table border=\"1\" class=\"dataframe\">\n",
       "  <thead>\n",
       "    <tr style=\"text-align: right;\">\n",
       "      <th></th>\n",
       "      <th>WARD</th>\n",
       "      <th>DISTRICT</th>\n",
       "      <th>NEIGHBORHOOD_CLUSTER</th>\n",
       "      <th>BLOCK_GROUP</th>\n",
       "      <th>CENSUS_TRACT</th>\n",
       "      <th>VOTING_PRECINCT</th>\n",
       "      <th>LATITUDE</th>\n",
       "      <th>LONGITUDE</th>\n",
       "      <th>OBJECTID</th>\n",
       "      <th>YEAR</th>\n",
       "      <th>...</th>\n",
       "      <th>HOUR</th>\n",
       "      <th>MINUTE</th>\n",
       "      <th>SECOND</th>\n",
       "      <th>SHIFT_DAY</th>\n",
       "      <th>SHIFT_EVENING</th>\n",
       "      <th>SHIFT_MIDNIGHT</th>\n",
       "      <th>METHOD_GUN</th>\n",
       "      <th>METHOD_KNIFE</th>\n",
       "      <th>METHOD_OTHERS</th>\n",
       "      <th>TARGET</th>\n",
       "    </tr>\n",
       "  </thead>\n",
       "  <tbody>\n",
       "    <tr>\n",
       "      <th>0</th>\n",
       "      <td>4</td>\n",
       "      <td>4</td>\n",
       "      <td>18</td>\n",
       "      <td>23012</td>\n",
       "      <td>2301.0</td>\n",
       "      <td>45</td>\n",
       "      <td>38.942182</td>\n",
       "      <td>-77.014557</td>\n",
       "      <td>329684676</td>\n",
       "      <td>2018</td>\n",
       "      <td>...</td>\n",
       "      <td>21</td>\n",
       "      <td>10</td>\n",
       "      <td>50</td>\n",
       "      <td>0</td>\n",
       "      <td>1</td>\n",
       "      <td>0</td>\n",
       "      <td>0</td>\n",
       "      <td>0</td>\n",
       "      <td>1</td>\n",
       "      <td>THEFT/OTHER</td>\n",
       "    </tr>\n",
       "    <tr>\n",
       "      <th>1</th>\n",
       "      <td>6</td>\n",
       "      <td>1</td>\n",
       "      <td>27</td>\n",
       "      <td>72002</td>\n",
       "      <td>7200.0</td>\n",
       "      <td>131</td>\n",
       "      <td>38.876999</td>\n",
       "      <td>-77.004356</td>\n",
       "      <td>329684677</td>\n",
       "      <td>2018</td>\n",
       "      <td>...</td>\n",
       "      <td>20</td>\n",
       "      <td>29</td>\n",
       "      <td>36</td>\n",
       "      <td>0</td>\n",
       "      <td>1</td>\n",
       "      <td>0</td>\n",
       "      <td>0</td>\n",
       "      <td>0</td>\n",
       "      <td>1</td>\n",
       "      <td>THEFT/OTHER</td>\n",
       "    </tr>\n",
       "    <tr>\n",
       "      <th>2</th>\n",
       "      <td>7</td>\n",
       "      <td>6</td>\n",
       "      <td>32</td>\n",
       "      <td>96033</td>\n",
       "      <td>9603.0</td>\n",
       "      <td>102</td>\n",
       "      <td>38.890214</td>\n",
       "      <td>-76.952775</td>\n",
       "      <td>329684678</td>\n",
       "      <td>2018</td>\n",
       "      <td>...</td>\n",
       "      <td>3</td>\n",
       "      <td>38</td>\n",
       "      <td>37</td>\n",
       "      <td>0</td>\n",
       "      <td>0</td>\n",
       "      <td>1</td>\n",
       "      <td>0</td>\n",
       "      <td>0</td>\n",
       "      <td>1</td>\n",
       "      <td>THEFT/OTHER</td>\n",
       "    </tr>\n",
       "    <tr>\n",
       "      <th>3</th>\n",
       "      <td>7</td>\n",
       "      <td>6</td>\n",
       "      <td>33</td>\n",
       "      <td>78033</td>\n",
       "      <td>7803.0</td>\n",
       "      <td>98</td>\n",
       "      <td>38.890241</td>\n",
       "      <td>-76.935370</td>\n",
       "      <td>329684679</td>\n",
       "      <td>2018</td>\n",
       "      <td>...</td>\n",
       "      <td>21</td>\n",
       "      <td>0</td>\n",
       "      <td>57</td>\n",
       "      <td>0</td>\n",
       "      <td>1</td>\n",
       "      <td>0</td>\n",
       "      <td>0</td>\n",
       "      <td>0</td>\n",
       "      <td>1</td>\n",
       "      <td>MOTOR VEHICLE THEFT</td>\n",
       "    </tr>\n",
       "    <tr>\n",
       "      <th>4</th>\n",
       "      <td>2</td>\n",
       "      <td>1</td>\n",
       "      <td>8</td>\n",
       "      <td>58002</td>\n",
       "      <td>5800.0</td>\n",
       "      <td>129</td>\n",
       "      <td>38.900860</td>\n",
       "      <td>-77.020912</td>\n",
       "      <td>329684680</td>\n",
       "      <td>2018</td>\n",
       "      <td>...</td>\n",
       "      <td>20</td>\n",
       "      <td>49</td>\n",
       "      <td>59</td>\n",
       "      <td>0</td>\n",
       "      <td>1</td>\n",
       "      <td>0</td>\n",
       "      <td>0</td>\n",
       "      <td>0</td>\n",
       "      <td>1</td>\n",
       "      <td>THEFT F/AUTO</td>\n",
       "    </tr>\n",
       "  </tbody>\n",
       "</table>\n",
       "<p>5 rows × 22 columns</p>\n",
       "</div>"
      ],
      "text/plain": [
       "   WARD  DISTRICT  NEIGHBORHOOD_CLUSTER  BLOCK_GROUP  CENSUS_TRACT  \\\n",
       "0     4         4                    18        23012        2301.0   \n",
       "1     6         1                    27        72002        7200.0   \n",
       "2     7         6                    32        96033        9603.0   \n",
       "3     7         6                    33        78033        7803.0   \n",
       "4     2         1                     8        58002        5800.0   \n",
       "\n",
       "   VOTING_PRECINCT   LATITUDE  LONGITUDE   OBJECTID  YEAR  ...  HOUR  MINUTE  \\\n",
       "0               45  38.942182 -77.014557  329684676  2018  ...    21      10   \n",
       "1              131  38.876999 -77.004356  329684677  2018  ...    20      29   \n",
       "2              102  38.890214 -76.952775  329684678  2018  ...     3      38   \n",
       "3               98  38.890241 -76.935370  329684679  2018  ...    21       0   \n",
       "4              129  38.900860 -77.020912  329684680  2018  ...    20      49   \n",
       "\n",
       "   SECOND  SHIFT_DAY  SHIFT_EVENING  SHIFT_MIDNIGHT  METHOD_GUN  METHOD_KNIFE  \\\n",
       "0      50          0              1               0           0             0   \n",
       "1      36          0              1               0           0             0   \n",
       "2      37          0              0               1           0             0   \n",
       "3      57          0              1               0           0             0   \n",
       "4      59          0              1               0           0             0   \n",
       "\n",
       "   METHOD_OTHERS               TARGET  \n",
       "0              1          THEFT/OTHER  \n",
       "1              1          THEFT/OTHER  \n",
       "2              1          THEFT/OTHER  \n",
       "3              1  MOTOR VEHICLE THEFT  \n",
       "4              1         THEFT F/AUTO  \n",
       "\n",
       "[5 rows x 22 columns]"
      ]
     },
     "execution_count": 56,
     "metadata": {},
     "output_type": "execute_result"
    }
   ],
   "source": [
    "test_df = pd.read_csv('Model_test_data.csv')\n",
    "test_df.drop(columns = 'Unnamed: 0', inplace = True)\n",
    "test_df.head()"
   ]
  },
  {
   "cell_type": "code",
   "execution_count": 60,
   "metadata": {},
   "outputs": [
    {
     "data": {
      "text/plain": [
       "array([2018, 2019])"
      ]
     },
     "execution_count": 60,
     "metadata": {},
     "output_type": "execute_result"
    }
   ],
   "source": [
    "test_df.YEAR.unique()"
   ]
  },
  {
   "cell_type": "code",
   "execution_count": 61,
   "metadata": {},
   "outputs": [],
   "source": [
    "test_df_july19 = test_df.where((test_df['YEAR'] == 2019) & (test_df['MONTH'] == 7))"
   ]
  },
  {
   "cell_type": "code",
   "execution_count": 65,
   "metadata": {},
   "outputs": [],
   "source": [
    "test_df_july19.dropna(inplace = True)"
   ]
  },
  {
   "cell_type": "code",
   "execution_count": 67,
   "metadata": {},
   "outputs": [
    {
     "data": {
      "text/plain": [
       "2971"
      ]
     },
     "execution_count": 67,
     "metadata": {},
     "output_type": "execute_result"
    }
   ],
   "source": [
    "len(test_df_july19)"
   ]
  },
  {
   "cell_type": "code",
   "execution_count": 70,
   "metadata": {},
   "outputs": [
    {
     "data": {
      "text/html": [
       "<div>\n",
       "<style scoped>\n",
       "    .dataframe tbody tr th:only-of-type {\n",
       "        vertical-align: middle;\n",
       "    }\n",
       "\n",
       "    .dataframe tbody tr th {\n",
       "        vertical-align: top;\n",
       "    }\n",
       "\n",
       "    .dataframe thead th {\n",
       "        text-align: right;\n",
       "    }\n",
       "</style>\n",
       "<table border=\"1\" class=\"dataframe\">\n",
       "  <thead>\n",
       "    <tr style=\"text-align: right;\">\n",
       "      <th></th>\n",
       "      <th>WARD</th>\n",
       "      <th>DISTRICT</th>\n",
       "      <th>NEIGHBORHOOD_CLUSTER</th>\n",
       "      <th>BLOCK_GROUP</th>\n",
       "      <th>CENSUS_TRACT</th>\n",
       "      <th>VOTING_PRECINCT</th>\n",
       "      <th>LATITUDE</th>\n",
       "      <th>LONGITUDE</th>\n",
       "      <th>OBJECTID</th>\n",
       "      <th>YEAR</th>\n",
       "      <th>...</th>\n",
       "      <th>DAY</th>\n",
       "      <th>HOUR</th>\n",
       "      <th>MINUTE</th>\n",
       "      <th>SECOND</th>\n",
       "      <th>SHIFT_DAY</th>\n",
       "      <th>SHIFT_EVENING</th>\n",
       "      <th>SHIFT_MIDNIGHT</th>\n",
       "      <th>METHOD_GUN</th>\n",
       "      <th>METHOD_KNIFE</th>\n",
       "      <th>METHOD_OTHERS</th>\n",
       "    </tr>\n",
       "  </thead>\n",
       "  <tbody>\n",
       "    <tr>\n",
       "      <th>34913</th>\n",
       "      <td>7.0</td>\n",
       "      <td>6.0</td>\n",
       "      <td>31.0</td>\n",
       "      <td>78091.0</td>\n",
       "      <td>7809.0</td>\n",
       "      <td>94.0</td>\n",
       "      <td>38.902325</td>\n",
       "      <td>-76.925456</td>\n",
       "      <td>330095143.0</td>\n",
       "      <td>2019.0</td>\n",
       "      <td>...</td>\n",
       "      <td>1.0</td>\n",
       "      <td>20.0</td>\n",
       "      <td>32.0</td>\n",
       "      <td>35.0</td>\n",
       "      <td>0.0</td>\n",
       "      <td>1.0</td>\n",
       "      <td>0.0</td>\n",
       "      <td>0.0</td>\n",
       "      <td>0.0</td>\n",
       "      <td>1.0</td>\n",
       "    </tr>\n",
       "    <tr>\n",
       "      <th>34914</th>\n",
       "      <td>2.0</td>\n",
       "      <td>3.0</td>\n",
       "      <td>6.0</td>\n",
       "      <td>43001.0</td>\n",
       "      <td>4300.0</td>\n",
       "      <td>141.0</td>\n",
       "      <td>38.917000</td>\n",
       "      <td>-77.035515</td>\n",
       "      <td>330095144.0</td>\n",
       "      <td>2019.0</td>\n",
       "      <td>...</td>\n",
       "      <td>1.0</td>\n",
       "      <td>21.0</td>\n",
       "      <td>5.0</td>\n",
       "      <td>16.0</td>\n",
       "      <td>0.0</td>\n",
       "      <td>1.0</td>\n",
       "      <td>0.0</td>\n",
       "      <td>0.0</td>\n",
       "      <td>0.0</td>\n",
       "      <td>1.0</td>\n",
       "    </tr>\n",
       "    <tr>\n",
       "      <th>34915</th>\n",
       "      <td>3.0</td>\n",
       "      <td>2.0</td>\n",
       "      <td>11.0</td>\n",
       "      <td>10011.0</td>\n",
       "      <td>1001.0</td>\n",
       "      <td>31.0</td>\n",
       "      <td>38.959907</td>\n",
       "      <td>-77.085300</td>\n",
       "      <td>330095145.0</td>\n",
       "      <td>2019.0</td>\n",
       "      <td>...</td>\n",
       "      <td>1.0</td>\n",
       "      <td>20.0</td>\n",
       "      <td>44.0</td>\n",
       "      <td>22.0</td>\n",
       "      <td>0.0</td>\n",
       "      <td>1.0</td>\n",
       "      <td>0.0</td>\n",
       "      <td>0.0</td>\n",
       "      <td>0.0</td>\n",
       "      <td>1.0</td>\n",
       "    </tr>\n",
       "    <tr>\n",
       "      <th>34916</th>\n",
       "      <td>6.0</td>\n",
       "      <td>5.0</td>\n",
       "      <td>23.0</td>\n",
       "      <td>79014.0</td>\n",
       "      <td>7901.0</td>\n",
       "      <td>81.0</td>\n",
       "      <td>38.899608</td>\n",
       "      <td>-76.980391</td>\n",
       "      <td>330095146.0</td>\n",
       "      <td>2019.0</td>\n",
       "      <td>...</td>\n",
       "      <td>1.0</td>\n",
       "      <td>23.0</td>\n",
       "      <td>14.0</td>\n",
       "      <td>53.0</td>\n",
       "      <td>0.0</td>\n",
       "      <td>0.0</td>\n",
       "      <td>1.0</td>\n",
       "      <td>0.0</td>\n",
       "      <td>0.0</td>\n",
       "      <td>1.0</td>\n",
       "    </tr>\n",
       "    <tr>\n",
       "      <th>34917</th>\n",
       "      <td>5.0</td>\n",
       "      <td>5.0</td>\n",
       "      <td>21.0</td>\n",
       "      <td>92041.0</td>\n",
       "      <td>9204.0</td>\n",
       "      <td>74.0</td>\n",
       "      <td>38.925590</td>\n",
       "      <td>-77.001511</td>\n",
       "      <td>330095147.0</td>\n",
       "      <td>2019.0</td>\n",
       "      <td>...</td>\n",
       "      <td>1.0</td>\n",
       "      <td>22.0</td>\n",
       "      <td>13.0</td>\n",
       "      <td>42.0</td>\n",
       "      <td>0.0</td>\n",
       "      <td>1.0</td>\n",
       "      <td>0.0</td>\n",
       "      <td>0.0</td>\n",
       "      <td>0.0</td>\n",
       "      <td>1.0</td>\n",
       "    </tr>\n",
       "  </tbody>\n",
       "</table>\n",
       "<p>5 rows × 21 columns</p>\n",
       "</div>"
      ],
      "text/plain": [
       "       WARD  DISTRICT  NEIGHBORHOOD_CLUSTER  BLOCK_GROUP  CENSUS_TRACT  \\\n",
       "34913   7.0       6.0                  31.0      78091.0        7809.0   \n",
       "34914   2.0       3.0                   6.0      43001.0        4300.0   \n",
       "34915   3.0       2.0                  11.0      10011.0        1001.0   \n",
       "34916   6.0       5.0                  23.0      79014.0        7901.0   \n",
       "34917   5.0       5.0                  21.0      92041.0        9204.0   \n",
       "\n",
       "       VOTING_PRECINCT   LATITUDE  LONGITUDE     OBJECTID    YEAR  ...  DAY  \\\n",
       "34913             94.0  38.902325 -76.925456  330095143.0  2019.0  ...  1.0   \n",
       "34914            141.0  38.917000 -77.035515  330095144.0  2019.0  ...  1.0   \n",
       "34915             31.0  38.959907 -77.085300  330095145.0  2019.0  ...  1.0   \n",
       "34916             81.0  38.899608 -76.980391  330095146.0  2019.0  ...  1.0   \n",
       "34917             74.0  38.925590 -77.001511  330095147.0  2019.0  ...  1.0   \n",
       "\n",
       "       HOUR  MINUTE  SECOND  SHIFT_DAY  SHIFT_EVENING  SHIFT_MIDNIGHT  \\\n",
       "34913  20.0    32.0    35.0        0.0            1.0             0.0   \n",
       "34914  21.0     5.0    16.0        0.0            1.0             0.0   \n",
       "34915  20.0    44.0    22.0        0.0            1.0             0.0   \n",
       "34916  23.0    14.0    53.0        0.0            0.0             1.0   \n",
       "34917  22.0    13.0    42.0        0.0            1.0             0.0   \n",
       "\n",
       "       METHOD_GUN  METHOD_KNIFE  METHOD_OTHERS  \n",
       "34913         0.0           0.0            1.0  \n",
       "34914         0.0           0.0            1.0  \n",
       "34915         0.0           0.0            1.0  \n",
       "34916         0.0           0.0            1.0  \n",
       "34917         0.0           0.0            1.0  \n",
       "\n",
       "[5 rows x 21 columns]"
      ]
     },
     "execution_count": 70,
     "metadata": {},
     "output_type": "execute_result"
    }
   ],
   "source": [
    "test_target = test_df_july19['TARGET']\n",
    "test_df_july19.drop(columns = 'TARGET', inplace = True)\n",
    "test_df_july19.head()"
   ]
  },
  {
   "cell_type": "code",
   "execution_count": null,
   "metadata": {},
   "outputs": [],
   "source": []
  },
  {
   "cell_type": "code",
   "execution_count": 86,
   "metadata": {},
   "outputs": [
    {
     "data": {
      "text/html": [
       "<div>\n",
       "<style scoped>\n",
       "    .dataframe tbody tr th:only-of-type {\n",
       "        vertical-align: middle;\n",
       "    }\n",
       "\n",
       "    .dataframe tbody tr th {\n",
       "        vertical-align: top;\n",
       "    }\n",
       "\n",
       "    .dataframe thead th {\n",
       "        text-align: right;\n",
       "    }\n",
       "</style>\n",
       "<table border=\"1\" class=\"dataframe\">\n",
       "  <thead>\n",
       "    <tr style=\"text-align: right;\">\n",
       "      <th></th>\n",
       "      <th>WARD</th>\n",
       "      <th>DISTRICT</th>\n",
       "      <th>NEIGHBORHOOD_CLUSTER</th>\n",
       "      <th>BLOCK_GROUP</th>\n",
       "      <th>CENSUS_TRACT</th>\n",
       "      <th>VOTING_PRECINCT</th>\n",
       "      <th>LATITUDE</th>\n",
       "      <th>LONGITUDE</th>\n",
       "      <th>OBJECTID</th>\n",
       "      <th>YEAR</th>\n",
       "      <th>...</th>\n",
       "      <th>DAY</th>\n",
       "      <th>HOUR</th>\n",
       "      <th>MINUTE</th>\n",
       "      <th>SECOND</th>\n",
       "      <th>SHIFT_DAY</th>\n",
       "      <th>SHIFT_EVENING</th>\n",
       "      <th>SHIFT_MIDNIGHT</th>\n",
       "      <th>METHOD_GUN</th>\n",
       "      <th>METHOD_KNIFE</th>\n",
       "      <th>METHOD_OTHERS</th>\n",
       "    </tr>\n",
       "  </thead>\n",
       "  <tbody>\n",
       "    <tr>\n",
       "      <th>0</th>\n",
       "      <td>1.205174</td>\n",
       "      <td>1.321071</td>\n",
       "      <td>1.227508</td>\n",
       "      <td>0.496275</td>\n",
       "      <td>0.496298</td>\n",
       "      <td>0.580079</td>\n",
       "      <td>-0.210278</td>\n",
       "      <td>2.371945</td>\n",
       "      <td>-2.815301</td>\n",
       "      <td>0.0</td>\n",
       "      <td>...</td>\n",
       "      <td>-1.778509</td>\n",
       "      <td>1.017703</td>\n",
       "      <td>0.123532</td>\n",
       "      <td>0.362599</td>\n",
       "      <td>-0.722516</td>\n",
       "      <td>1.193033</td>\n",
       "      <td>-0.56867</td>\n",
       "      <td>-0.240149</td>\n",
       "      <td>-0.130834</td>\n",
       "      <td>0.277199</td>\n",
       "    </tr>\n",
       "    <tr>\n",
       "      <th>1</th>\n",
       "      <td>-0.989073</td>\n",
       "      <td>-0.310227</td>\n",
       "      <td>-0.955496</td>\n",
       "      <td>-0.617281</td>\n",
       "      <td>-0.617251</td>\n",
       "      <td>1.681841</td>\n",
       "      <td>0.296280</td>\n",
       "      <td>-0.721998</td>\n",
       "      <td>-2.815293</td>\n",
       "      <td>0.0</td>\n",
       "      <td>...</td>\n",
       "      <td>-1.778509</td>\n",
       "      <td>1.166341</td>\n",
       "      <td>-1.437735</td>\n",
       "      <td>-0.729047</td>\n",
       "      <td>-0.722516</td>\n",
       "      <td>1.193033</td>\n",
       "      <td>-0.56867</td>\n",
       "      <td>-0.240149</td>\n",
       "      <td>-0.130834</td>\n",
       "      <td>0.277199</td>\n",
       "    </tr>\n",
       "    <tr>\n",
       "      <th>2</th>\n",
       "      <td>-0.550224</td>\n",
       "      <td>-0.853993</td>\n",
       "      <td>-0.518895</td>\n",
       "      <td>-1.664195</td>\n",
       "      <td>-1.664158</td>\n",
       "      <td>-0.896752</td>\n",
       "      <td>1.777395</td>\n",
       "      <td>-2.121517</td>\n",
       "      <td>-2.815285</td>\n",
       "      <td>0.0</td>\n",
       "      <td>...</td>\n",
       "      <td>-1.778509</td>\n",
       "      <td>1.017703</td>\n",
       "      <td>0.817428</td>\n",
       "      <td>-0.384317</td>\n",
       "      <td>-0.722516</td>\n",
       "      <td>1.193033</td>\n",
       "      <td>-0.56867</td>\n",
       "      <td>-0.240149</td>\n",
       "      <td>-0.130834</td>\n",
       "      <td>0.277199</td>\n",
       "    </tr>\n",
       "    <tr>\n",
       "      <th>3</th>\n",
       "      <td>0.766325</td>\n",
       "      <td>0.777305</td>\n",
       "      <td>0.528947</td>\n",
       "      <td>0.525566</td>\n",
       "      <td>0.525493</td>\n",
       "      <td>0.275336</td>\n",
       "      <td>-0.304044</td>\n",
       "      <td>0.827648</td>\n",
       "      <td>-2.815277</td>\n",
       "      <td>0.0</td>\n",
       "      <td>...</td>\n",
       "      <td>-1.778509</td>\n",
       "      <td>1.463617</td>\n",
       "      <td>-0.917313</td>\n",
       "      <td>1.396791</td>\n",
       "      <td>-0.722516</td>\n",
       "      <td>-0.838200</td>\n",
       "      <td>1.75849</td>\n",
       "      <td>-0.240149</td>\n",
       "      <td>-0.130834</td>\n",
       "      <td>0.277199</td>\n",
       "    </tr>\n",
       "    <tr>\n",
       "      <th>4</th>\n",
       "      <td>0.327475</td>\n",
       "      <td>0.777305</td>\n",
       "      <td>0.354306</td>\n",
       "      <td>0.938969</td>\n",
       "      <td>0.938988</td>\n",
       "      <td>0.111244</td>\n",
       "      <td>0.592805</td>\n",
       "      <td>0.233927</td>\n",
       "      <td>-2.815269</td>\n",
       "      <td>0.0</td>\n",
       "      <td>...</td>\n",
       "      <td>-1.778509</td>\n",
       "      <td>1.314979</td>\n",
       "      <td>-0.975137</td>\n",
       "      <td>0.764785</td>\n",
       "      <td>-0.722516</td>\n",
       "      <td>1.193033</td>\n",
       "      <td>-0.56867</td>\n",
       "      <td>-0.240149</td>\n",
       "      <td>-0.130834</td>\n",
       "      <td>0.277199</td>\n",
       "    </tr>\n",
       "  </tbody>\n",
       "</table>\n",
       "<p>5 rows × 21 columns</p>\n",
       "</div>"
      ],
      "text/plain": [
       "       WARD  DISTRICT  NEIGHBORHOOD_CLUSTER  BLOCK_GROUP  CENSUS_TRACT  \\\n",
       "0  1.205174  1.321071              1.227508     0.496275      0.496298   \n",
       "1 -0.989073 -0.310227             -0.955496    -0.617281     -0.617251   \n",
       "2 -0.550224 -0.853993             -0.518895    -1.664195     -1.664158   \n",
       "3  0.766325  0.777305              0.528947     0.525566      0.525493   \n",
       "4  0.327475  0.777305              0.354306     0.938969      0.938988   \n",
       "\n",
       "   VOTING_PRECINCT  LATITUDE  LONGITUDE  OBJECTID  YEAR  ...       DAY  \\\n",
       "0         0.580079 -0.210278   2.371945 -2.815301   0.0  ... -1.778509   \n",
       "1         1.681841  0.296280  -0.721998 -2.815293   0.0  ... -1.778509   \n",
       "2        -0.896752  1.777395  -2.121517 -2.815285   0.0  ... -1.778509   \n",
       "3         0.275336 -0.304044   0.827648 -2.815277   0.0  ... -1.778509   \n",
       "4         0.111244  0.592805   0.233927 -2.815269   0.0  ... -1.778509   \n",
       "\n",
       "       HOUR    MINUTE    SECOND  SHIFT_DAY  SHIFT_EVENING  SHIFT_MIDNIGHT  \\\n",
       "0  1.017703  0.123532  0.362599  -0.722516       1.193033        -0.56867   \n",
       "1  1.166341 -1.437735 -0.729047  -0.722516       1.193033        -0.56867   \n",
       "2  1.017703  0.817428 -0.384317  -0.722516       1.193033        -0.56867   \n",
       "3  1.463617 -0.917313  1.396791  -0.722516      -0.838200         1.75849   \n",
       "4  1.314979 -0.975137  0.764785  -0.722516       1.193033        -0.56867   \n",
       "\n",
       "   METHOD_GUN  METHOD_KNIFE  METHOD_OTHERS  \n",
       "0   -0.240149     -0.130834       0.277199  \n",
       "1   -0.240149     -0.130834       0.277199  \n",
       "2   -0.240149     -0.130834       0.277199  \n",
       "3   -0.240149     -0.130834       0.277199  \n",
       "4   -0.240149     -0.130834       0.277199  \n",
       "\n",
       "[5 rows x 21 columns]"
      ]
     },
     "execution_count": 86,
     "metadata": {},
     "output_type": "execute_result"
    }
   ],
   "source": [
    "column_names = test_df_july19.columns\n",
    "\n",
    "scaler = StandardScaler()\n",
    "scaled_feats = scaler.fit_transform(test_df_july19)\n",
    "\n",
    "scaled_feats = pd.DataFrame(scaled_feats, columns = column_names)\n",
    "\n",
    "test_df_july19_scaled = scaled_feats\n",
    "test_df_july19_scaled.head()"
   ]
  },
  {
   "cell_type": "code",
   "execution_count": 80,
   "metadata": {},
   "outputs": [],
   "source": [
    "test_predictions = trained_model.predict(test_df_july19)"
   ]
  },
  {
   "cell_type": "code",
   "execution_count": 85,
   "metadata": {},
   "outputs": [],
   "source": [
    "test_predictions = pd.Series(test_predictions)"
   ]
  },
  {
   "cell_type": "code",
   "execution_count": null,
   "metadata": {},
   "outputs": [],
   "source": []
  },
  {
   "cell_type": "code",
   "execution_count": 83,
   "metadata": {},
   "outputs": [
    {
     "data": {
      "text/plain": [
       "array([[8, 'THEFT/OTHER'],\n",
       "       [4, 'MOTOR VEHICLE THEFT'],\n",
       "       [7, 'THEFT F/AUTO'],\n",
       "       [1, 'ASSAULT W/DANGEROUS WEAPON'],\n",
       "       [5, 'ROBBERY'],\n",
       "       [2, 'BURGLARY'],\n",
       "       [3, 'HOMICIDE'],\n",
       "       [6, 'SEX ABUSE'],\n",
       "       [0, 'ARSON']], dtype=object)"
      ]
     },
     "execution_count": 83,
     "metadata": {},
     "output_type": "execute_result"
    }
   ],
   "source": [
    "labels"
   ]
  },
  {
   "cell_type": "code",
   "execution_count": null,
   "metadata": {},
   "outputs": [],
   "source": []
  },
  {
   "cell_type": "code",
   "execution_count": null,
   "metadata": {},
   "outputs": [],
   "source": []
  },
  {
   "cell_type": "code",
   "execution_count": null,
   "metadata": {},
   "outputs": [],
   "source": []
  }
 ],
 "metadata": {
  "kernelspec": {
   "display_name": "Python 3",
   "language": "python",
   "name": "python3"
  },
  "language_info": {
   "codemirror_mode": {
    "name": "ipython",
    "version": 3
   },
   "file_extension": ".py",
   "mimetype": "text/x-python",
   "name": "python",
   "nbconvert_exporter": "python",
   "pygments_lexer": "ipython3",
   "version": "3.7.3"
  },
  "varInspector": {
   "cols": {
    "lenName": 16,
    "lenType": 16,
    "lenVar": 40
   },
   "kernels_config": {
    "python": {
     "delete_cmd_postfix": "",
     "delete_cmd_prefix": "del ",
     "library": "var_list.py",
     "varRefreshCmd": "print(var_dic_list())"
    },
    "r": {
     "delete_cmd_postfix": ") ",
     "delete_cmd_prefix": "rm(",
     "library": "var_list.r",
     "varRefreshCmd": "cat(var_dic_list()) "
    }
   },
   "types_to_exclude": [
    "module",
    "function",
    "builtin_function_or_method",
    "instance",
    "_Feature"
   ],
   "window_display": false
  }
 },
 "nbformat": 4,
 "nbformat_minor": 2
}
