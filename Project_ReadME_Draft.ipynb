{
 "cells": [
  {
   "cell_type": "markdown",
   "metadata": {},
   "source": [
    "# Washington, DC Crime Analysis & Predictive Modeling\n",
    "\n",
    "*Insert DC Map Image*\n",
    "\n",
    "### Project Overview\n",
    "*The intent of this project is two-fold:* \n",
    "\n",
    " - **Part One** - Involves exploratory data analysis of crime incidents throughout Washington, DC from July 2018 - 2019. The analysis will involve mappings of crime incidents within the city, crime volumes by certain time and day parameters, as well as crime incidents by geographical dimensions, i.e., DC Wards. \n",
    " \n",
    "\n",
    " - **Part Two** - Involves the classification of the type of crime to take place given a number of feature variables. In the case of crime data provided by the DC Government through their open data initiatives, a crime incident is categorized into one of the following classes: \n",
    "     - Arson\n",
    "     - Assault with A Dangerous Weapon\n",
    "     - Burglary\n",
    "     - Homicide\n",
    "     - Motor Vehicle Theft\n",
    "     - Robbery\n",
    "     - Sex Abuse\n",
    "     - Theft From Automobiles\n",
    "     - Theft (Other)\n",
    " \n",
    "For both parts, we'll walk through the methods used for obtaining, cleaning, analyzing, conditioning, feature engineering, and modeling the data."
   ]
  },
  {
   "cell_type": "markdown",
   "metadata": {},
   "source": [
    "***\n",
    "## Obtaining the Data\n",
    "\n",
    "The crime data for this project was obtained through the Open Data DC platform maintained by the DC government: https://opendata.dc.gov. The particular dataset used is available for download via the following URL: https://opendata.dc.gov/datasets/crime-incidents-in-2019. \n",
    "\n",
    "Crime data was extracted for both 2018 and 2019. Both raw datasets can be found in the project repository titled: 'Crime_Incidents_in_2018.csv' & 'Crime_Incidents_in_2019.csv'.\n"
   ]
  },
  {
   "cell_type": "markdown",
   "metadata": {},
   "source": [
    "***\n",
    "## Data Cleaning\n",
    "*The data cleaning steps are outlined in the accompanying jupyter notebook titled 'Capstone_EDA'.*\n",
    "\n",
    "The data cleaning process was fairly straight forward as the datasets themselves are well kept. The 2018 dataset contained 33782 crime instances, while the 2019 dataset at the time of download contained 20620 crime instances.\n",
    "\n",
    "The image below highlights the features contained within the crime datasets:\n",
    "\n",
    "*Insert 'Features' Image*\n",
    "\n",
    "**Data Cleaning Highlights:**\n",
    "\n",
    "- Features Removed: \n",
    "    - X', 'Y', 'CCN', 'BLOCK', 'XBLOCK', 'YBLOCK', 'ANC', 'PSA', BID', 'START_DATE', 'END_DATE'\n",
    "- Features Split for Modeling Purposes (split by delimiters into individual features, i.e., 'DATE' --> 'DAY, 'MONTH, 'YEAR'): \n",
    "    - 'DATE', 'TIME'\n",
    "- Features Added: \n",
    "    - 'COUNT' (for summing crime events), 'CITY' (for mapping purposes)\n",
    "- Null Values Removed: \n",
    "    - The remaining dataset contained null values within some of the feature variables. The percentage of null values compared to the total dataset length was assessed and deemed insignificant enough to to remove these rows altogether: \n",
    "    - ***Insert 'Percent Null Values' Image***"
   ]
  },
  {
   "cell_type": "markdown",
   "metadata": {},
   "source": [
    "***\n",
    "## Exploratory Data Analysis\n",
    "\n",
    "The exploratory phase focused on two key themes: DC crime by geographical location, and crime by date and time parameters. Additionally, we took a look at the overall breakdown of total crimes committed by crime type. \n",
    "\n",
    "\n",
    "### Total Crime by Offense\n",
    ">To start, we offer a visualization that accounts for total crime by type: \n",
    "\n",
    "*Insert 'Total Crime by Offense' Image*\n",
    "\n",
    "### Month, Weekday, Hour Analysis\n",
    ">In this section, we extract total crime volumes by the month, weekday, and hour to assess any patterns based of time dimensions:\n",
    "\n",
    "**Total Crime Incidents by Month**\n",
    "\n",
    "> Here, we visualize total crime incidents in DC by month to extract any seasonality among crime volumes: \n",
    "\n",
    "*Insert 'Total by Month' Image*\n",
    "\n",
    "> Based on the analysis, there is fairly significant seasonality with respect to total crime in DC. The delta between the months of August (peak) and February (bottom) of ~31%. A portion of this spread can be explained by the number of days in each month, however, accounting for that effect still produces a significant delta. \n",
    "\n",
    "**Total Crime Incidents by Weekday**\n",
    "\n",
    "> We visualized the total crime incidents by weekday to extract the effect, if any, of the weekday on the propensity for a crime to occur:\n",
    "\n",
    "*Insert 'Total by Weekday' Image*\n",
    "\n",
    "> From the analysis, it appears crime volumes do not vary by weekday in a significant way. \n",
    "\n",
    "**Total Crime Incidents by Hour**\n",
    "\n",
    "> Our next visualizations parses the total volume of crime by hour. The goal is to highlight trends that exist in terms of crime volumes within a 24 hour cycle:\n",
    "\n",
    "*Insert 'Total by Hour' Image*\n",
    "\n",
    "*Insert 'total by hour by offense' image*\n",
    "\n",
    "> The cyclical nature of crime volumes in DC throughout a 24 hour period are clearly indicated by the graphics above.\n",
    "\n",
    "### Geographic Analysis\n",
    "\n",
    ">This section focused on visualizing crime incidents based upon geographic location. We start with a heatmap showcasing the areas within the city where crime most frequent: \n",
    "\n",
    "*insert dc crime heatmap image*\n",
    "\n",
    ">Further, we visualized crime on a 12 month animation beginning with August 2018:\n",
    "\n",
    "*insert dc crime gif*\n",
    "\n",
    "**Crime by Ward**\n",
    "\n",
    ">Further analysis was done to compare and contrast crime volumes by DC wards. A map of the DC ward is provided as a reference: \n",
    "\n",
    "*insert dc ward analysis graphic*\n",
    "\n",
    ">We visualized all incidents of crime separated by crime to further conceptualize the distribution of wards in DC:\n",
    "\n",
    "*insert dc crime by ward image*\n",
    "\n",
    "**Crime by Type**\n",
    "\n"
   ]
  },
  {
   "cell_type": "code",
   "execution_count": null,
   "metadata": {},
   "outputs": [],
   "source": []
  }
 ],
 "metadata": {
  "kernelspec": {
   "display_name": "Python 3",
   "language": "python",
   "name": "python3"
  },
  "language_info": {
   "codemirror_mode": {
    "name": "ipython",
    "version": 3
   },
   "file_extension": ".py",
   "mimetype": "text/x-python",
   "name": "python",
   "nbconvert_exporter": "python",
   "pygments_lexer": "ipython3",
   "version": "3.7.3"
  },
  "varInspector": {
   "cols": {
    "lenName": 16,
    "lenType": 16,
    "lenVar": 40
   },
   "kernels_config": {
    "python": {
     "delete_cmd_postfix": "",
     "delete_cmd_prefix": "del ",
     "library": "var_list.py",
     "varRefreshCmd": "print(var_dic_list())"
    },
    "r": {
     "delete_cmd_postfix": ") ",
     "delete_cmd_prefix": "rm(",
     "library": "var_list.r",
     "varRefreshCmd": "cat(var_dic_list()) "
    }
   },
   "types_to_exclude": [
    "module",
    "function",
    "builtin_function_or_method",
    "instance",
    "_Feature"
   ],
   "window_display": false
  }
 },
 "nbformat": 4,
 "nbformat_minor": 2
}
